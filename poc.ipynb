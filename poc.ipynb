{
 "cells": [
  {
   "cell_type": "code",
   "execution_count": 1,
   "metadata": {},
   "outputs": [],
   "source": [
    "import pandas as pd "
   ]
  },
  {
   "cell_type": "code",
   "execution_count": 2,
   "metadata": {},
   "outputs": [],
   "source": [
    "df = pd.read_csv('dictionary.csv')\n"
   ]
  },
  {
   "cell_type": "code",
   "execution_count": 3,
   "metadata": {},
   "outputs": [
    {
     "data": {
      "text/html": [
       "<div>\n",
       "<style scoped>\n",
       "    .dataframe tbody tr th:only-of-type {\n",
       "        vertical-align: middle;\n",
       "    }\n",
       "\n",
       "    .dataframe tbody tr th {\n",
       "        vertical-align: top;\n",
       "    }\n",
       "\n",
       "    .dataframe thead th {\n",
       "        text-align: right;\n",
       "    }\n",
       "</style>\n",
       "<table border=\"1\" class=\"dataframe\">\n",
       "  <thead>\n",
       "    <tr style=\"text-align: right;\">\n",
       "      <th></th>\n",
       "      <th>ID</th>\n",
       "      <th>Word</th>\n",
       "      <th>Alternative</th>\n",
       "      <th>Definition</th>\n",
       "    </tr>\n",
       "  </thead>\n",
       "  <tbody>\n",
       "    <tr>\n",
       "      <th>0</th>\n",
       "      <td>0</td>\n",
       "      <td>a</td>\n",
       "      <td>kin</td>\n",
       "      <td>PARTICLE (emphasis, emotion, or confirmation)</td>\n",
       "    </tr>\n",
       "    <tr>\n",
       "      <th>1</th>\n",
       "      <td>1</td>\n",
       "      <td>akesi</td>\n",
       "      <td>NaN</td>\n",
       "      <td>NOUN non-cute animal; reptile, amphibian</td>\n",
       "    </tr>\n",
       "    <tr>\n",
       "      <th>2</th>\n",
       "      <td>2</td>\n",
       "      <td>ala</td>\n",
       "      <td>NaN</td>\n",
       "      <td>ADJECTIVE no, not, zero</td>\n",
       "    </tr>\n",
       "    <tr>\n",
       "      <th>3</th>\n",
       "      <td>3</td>\n",
       "      <td>alasa</td>\n",
       "      <td>NaN</td>\n",
       "      <td>VERB to hunt, forage</td>\n",
       "    </tr>\n",
       "    <tr>\n",
       "      <th>4</th>\n",
       "      <td>4</td>\n",
       "      <td>ale</td>\n",
       "      <td>ali</td>\n",
       "      <td>ADJECTIVE all; abundant, countless, bountiful,...</td>\n",
       "    </tr>\n",
       "    <tr>\n",
       "      <th>...</th>\n",
       "      <td>...</td>\n",
       "      <td>...</td>\n",
       "      <td>...</td>\n",
       "      <td>...</td>\n",
       "    </tr>\n",
       "    <tr>\n",
       "      <th>115</th>\n",
       "      <td>115</td>\n",
       "      <td>wan</td>\n",
       "      <td>NaN</td>\n",
       "      <td>ADJECTIVE unique, united NUMBER one</td>\n",
       "    </tr>\n",
       "    <tr>\n",
       "      <th>116</th>\n",
       "      <td>116</td>\n",
       "      <td>waso</td>\n",
       "      <td>NaN</td>\n",
       "      <td>NOUN bird, flying creature, winged animal</td>\n",
       "    </tr>\n",
       "    <tr>\n",
       "      <th>117</th>\n",
       "      <td>117</td>\n",
       "      <td>wawa</td>\n",
       "      <td>NaN</td>\n",
       "      <td>ADJECTIVE strong, powerful; confident, sure; e...</td>\n",
       "    </tr>\n",
       "    <tr>\n",
       "      <th>118</th>\n",
       "      <td>118</td>\n",
       "      <td>weka</td>\n",
       "      <td>NaN</td>\n",
       "      <td>ADJECTIVE absent, away, ignored</td>\n",
       "    </tr>\n",
       "    <tr>\n",
       "      <th>119</th>\n",
       "      <td>119</td>\n",
       "      <td>wile</td>\n",
       "      <td>NaN</td>\n",
       "      <td>PRE-VERB must, need, require, should, want, wish</td>\n",
       "    </tr>\n",
       "  </tbody>\n",
       "</table>\n",
       "<p>120 rows × 4 columns</p>\n",
       "</div>"
      ],
      "text/plain": [
       "      ID   Word  Alternative  \\\n",
       "0      0      a          kin   \n",
       "1      1  akesi          NaN   \n",
       "2      2    ala          NaN   \n",
       "3      3  alasa          NaN   \n",
       "4      4    ale          ali   \n",
       "..   ...    ...          ...   \n",
       "115  115    wan          NaN   \n",
       "116  116   waso          NaN   \n",
       "117  117   wawa          NaN   \n",
       "118  118   weka          NaN   \n",
       "119  119   wile          NaN   \n",
       "\n",
       "                                            Definition  \n",
       "0        PARTICLE (emphasis, emotion, or confirmation)  \n",
       "1             NOUN non-cute animal; reptile, amphibian  \n",
       "2                              ADJECTIVE no, not, zero  \n",
       "3                                 VERB to hunt, forage  \n",
       "4    ADJECTIVE all; abundant, countless, bountiful,...  \n",
       "..                                                 ...  \n",
       "115                ADJECTIVE unique, united NUMBER one  \n",
       "116          NOUN bird, flying creature, winged animal  \n",
       "117  ADJECTIVE strong, powerful; confident, sure; e...  \n",
       "118                    ADJECTIVE absent, away, ignored  \n",
       "119   PRE-VERB must, need, require, should, want, wish  \n",
       "\n",
       "[120 rows x 4 columns]"
      ]
     },
     "execution_count": 3,
     "metadata": {},
     "output_type": "execute_result"
    }
   ],
   "source": [
    "df"
   ]
  },
  {
   "cell_type": "code",
   "execution_count": 4,
   "metadata": {},
   "outputs": [],
   "source": [
    "syllables = ['0', '1', '2', '3']\n",
    "space = ' '"
   ]
  },
  {
   "cell_type": "code",
   "execution_count": 5,
   "metadata": {},
   "outputs": [],
   "source": [
    "# Define a function to convert to any base n\n",
    "def convert_to_base_n(x, base):\n",
    "    if x == 0:\n",
    "        return '0'\n",
    "\n",
    "    base_str = ''\n",
    "    while x > 0:\n",
    "        remainder = x % base\n",
    "        base_str = str(remainder) + base_str\n",
    "        x //= base\n",
    "    \n",
    "    return base_str\n",
    "\n",
    "# Specify the base you want (e.g., base 3)\n",
    "base_n = len(syllables)\n",
    "\n",
    "# Add a new column with base-n indices\n",
    "df[f'Base-{base_n} Index'] = df.index.map(lambda x: convert_to_base_n(x, base_n))"
   ]
  },
  {
   "cell_type": "code",
   "execution_count": 6,
   "metadata": {},
   "outputs": [
    {
     "name": "stdout",
     "output_type": "stream",
     "text": [
      "      ID     Word  Alternative                                                                                                                        Definition Base-4 Index\n",
      "0      0        a          kin                                                                                     PARTICLE (emphasis, emotion, or confirmation)            0\n",
      "1      1    akesi          NaN                                                                                          NOUN non-cute animal; reptile, amphibian            1\n",
      "2      2      ala          NaN                                                                                                           ADJECTIVE no, not, zero            2\n",
      "3      3    alasa          NaN                                                                                                              VERB to hunt, forage            3\n",
      "4      4      ale          ali             ADJECTIVE all; abundant, countless, bountiful, every, plentiful NOUN abundance, everything, life, universe NUMBER 100           10\n",
      "5      5     anpa          NaN                                                                         ADJECTIVE bowing down, downward, humble, lowly, dependent           11\n",
      "6      6     ante          NaN                                                                                      ADJECTIVE different, altered, changed, other           12\n",
      "7      7      anu          NaN                                                                                                                       PARTICLE or           13\n",
      "8      8     awen          NaN                                               ADJECTIVE enduring, kept, protected, safe, waiting, staying PRE-VERB to continue to           20\n",
      "9      9        e          NaN                                                                                               PARTICLE (before the direct object)           21\n",
      "10    10       en          NaN                                                                                              PARTICLE (between multiple subjects)           22\n",
      "11    11     esun          NaN                                                                             NOUN market, shop, fair, bazaar, business transaction           23\n",
      "12    12      ijo          NaN                                                                                            NOUN thing, phenomenon, object, matter           30\n",
      "13    13      ike          NaN                                                                                ADJECTIVE bad, negative; non-essential, irrelevant           31\n",
      "14    14      ilo          NaN                                                                                             NOUN tool, implement, machine, device           32\n",
      "15    15     insa          NaN                                                                    NOUN centre, content, inside, between; internal organ, stomach           33\n",
      "16    16     jaki          NaN                                                                 ADJECTIVE disgusting, obscene, sickly, toxic, unclean, unsanitary          100\n",
      "17    17      jan          NaN                                                                                                NOUN human being, person, somebody          101\n",
      "18    18     jelo          NaN                                                                                                       ADJECTIVE yellow, yellowish          102\n",
      "19    19       jo          NaN                                                                                                VERB to have, carry, contain, hold          103\n",
      "20    20     kala          NaN                                                                                            NOUN fish, marine animal, sea creature          110\n",
      "21    21   kalama          NaN                                                                                      VERB to produce a sound; recite, utter aloud          111\n",
      "22    22     kama          NaN                                            ADJECTIVE arriving, coming, future, summoned PRE-VERB to become, manage to, succeed in          112\n",
      "23    23     kasi          NaN                                                                                                NOUN plant, vegetation, herb, leaf          113\n",
      "24    24      ken          NaN                                                                PRE-VERB to be able to, be allowed to, can, may ADJECTIVE possible          120\n",
      "25    25  kepeken          NaN                                                                                             PREPOSITION to use, with, by means of          121\n",
      "26    26     kili          NaN                                                                                                   NOUN fruit, vegetable, mushroom          122\n",
      "27    27    kiwen          NaN                                                                                              NOUN hard object, metal, rock, stone          123\n",
      "28    28       ko          NaN                                                                        NOUN clay, clinging form, dough, semi-solid, paste, powder          130\n",
      "29    29      kon          NaN                                                                   NOUN air, breath; essence, spirit; hidden reality, unseen agent          131\n",
      "30    30     kule          NaN                                                                                           ADJECTIVE colourful, pigmented, painted          132\n",
      "31    31   kulupu          NaN                                                                            NOUN community, company, group, nation, society, tribe          133\n",
      "32    32     kute          NaN                                                                             NOUN ear VERB to hear, listen; pay attention to, obey          200\n",
      "33    33       la          NaN                                                                       PARTICLE (between the context phrase and the main sentence)          201\n",
      "34    34     lape          NaN                                                                                                       ADJECTIVE sleeping, resting          202\n",
      "35    35     laso          NaN                                                                                                             ADJECTIVE blue, green          203\n",
      "36    36     lawa          NaN                                                   NOUN head, mind VERB to control, direct, guide, lead, own, plan, regulate, rule          210\n",
      "37    37      len          NaN                                                                    NOUN cloth, clothing, fabric, textile; cover, layer of privacy          211\n",
      "38    38     lete          NaN                                                                                               ADJECTIVE cold, cool; uncooked, raw          212\n",
      "39    39       li          NaN  PARTICLE (between any subject except 'mi' alone or 'sina' alone and its verb; also to introduce a new verb for the same subject)          213\n",
      "40    40     lili          NaN                                                                                 ADJECTIVE little, small, short; few; a bit; young          220\n",
      "41    41    linja          NaN                                                                      NOUN long and flexible thing; cord, hair, rope, thread, yarn          221\n",
      "42    42     lipu          NaN                                                                    NOUN flat object; book, document, card, paper, record, website          222\n",
      "43    43     loje          NaN                                                                                                            ADJECTIVE red, reddish          223\n",
      "44    44      lon          NaN                                                                          PREPOSITION located at, present at, real, true, existing          230\n",
      "45    45     luka          NaN                                                                                         NOUN arm, hand, tactile organ NUMBER five          231\n",
      "46    46    lukin          oko                                   NOUN eye VERB to look at, see, examine, observe, read, watch PRE-VERB to seek, look for, try to          232\n",
      "47    47     lupa          NaN                                                                                                  NOUN door, hole, orifice, window          233\n",
      "48    48       ma          NaN                                                                       NOUN earth, land; outdoors, world; country, territory; soil          300\n",
      "49    49     mama          NaN                                                                  NOUN parent, ancestor; creator, originator; caretaker, sustainer          301\n",
      "50    50     mani          NaN                                                                      NOUN money, cash, savings, wealth; large domesticated animal          302\n",
      "51    51     meli          NaN                                                                                         NOUN woman, female, feminine person; wife          303\n",
      "52    52       mi          NaN                                                                                                                NOUN I, me, we, us          310\n",
      "53    53     mije          NaN                                                                                         NOUN man, male, masculine person; husband          311\n",
      "54    54     moku          NaN                                                                                      VERB to eat, drink, consume, swallow, ingest          312\n",
      "55    55     moli          NaN                                                                                                             ADJECTIVE dead, dying          313\n",
      "56    56    monsi          NaN                                                                                                           NOUN back, behind, rear          320\n",
      "57    57       mu          NaN                                                                                          PARTICLE (animal noise or communication)          321\n",
      "58    58      mun          NaN                                                                                                 NOUN moon, night sky object, star          322\n",
      "59    59     musi          NaN                                                                ADJECTIVE artistic, entertaining, frivolous, playful, recreational          323\n",
      "60    60     mute          NaN                                                                    ADJECTIVE many, a lot, more, much, several, very NOUN quantity          330\n",
      "61    61    nanpa          NaN                                                                                        PARTICLE -th (ordinal number) NOUN numbers          331\n",
      "62    62     nasa          NaN                                                                    ADJECTIVE unusual, strange; foolish, crazy; drunk, intoxicated          332\n",
      "63    63    nasin          NaN                                                                                    NOUN way, custom, doctrine, method, path, road          333\n",
      "64    64     nena          NaN                                                                             NOUN bump, button, hill, mountain, nose, protuberance         1000\n",
      "65    65       ni          NaN                                                                                                              ADJECTIVE that, this         1001\n",
      "66    66     nimi          NaN                                                                                                                   NOUN name, word         1002\n",
      "67    67     noka          NaN                                                                           NOUN foot, leg, organ of locomotion; bottom, lower part         1003\n",
      "68    68        o          NaN                                                                                         PARTICLE hey! O! (vocative or imperative)         1010\n",
      "69    69     olin          NaN                                                                     VERB to love, have compassion for, respect, show affection to         1011\n",
      "70    70      ona          NaN                                                                                                            NOUN he, she, it, they         1012\n",
      "71    71     open          NaN                                                                                               VERB to begin, start; open; turn on         1013\n",
      "72    72   pakala          NaN                                                                             ADJECTIVE botched, broken, damaged, harmed, messed up         1020\n",
      "73    73     pali          NaN                                                                         VERB to do, take action on, work on; build, make, prepare         1021\n",
      "74    74   palisa          NaN                                                                                          NOUN long hard thing; branch, rod, stick         1022\n",
      "75    75      pan          NaN                                                                  NOUN cereal, grain; barley, corn, oat, rice, wheat; bread, pasta         1023\n",
      "76    76     pana          NaN                                                                                   VERB to give, send, emit, provide, put, release         1030\n",
      "77    77       pi          NaN                                                                                                                       PARTICLE of         1031\n",
      "78    78    pilin          NaN                                            NOUN heart (physical or emotional) ADJECTIVE feeling (an emotion, a direct experience)         1032\n",
      "79    79   pimeja          NaN                                                                                                      ADJECTIVE black, dark, unlit         1033\n",
      "80    80     pini          NaN                                                                                   ADJECTIVE ago, completed, ended, finished, past         1100\n",
      "81    81     pipi          NaN                                                                                                     NOUN bug, insect, ant, spider         1101\n",
      "82    82     poka          NaN                                                                                         NOUN hip, side; next to, nearby, vicinity         1102\n",
      "83    83     poki          NaN                                                                     NOUN container, bag, bowl, box, cup, cupboard, drawer, vessel         1103\n",
      "84    84     pona          NaN                                                                      ADJECTIVE good, positive, useful; friendly, peaceful; simple         1110\n",
      "85    85       pu          NaN                                                                            ADJECTIVE interacting with the official Toki Pona book         1111\n",
      "86    86     sama          NaN                                                   ADJECTIVE same, similar; each other; sibling, peer, fellow PREPOSITION as, like         1112\n",
      "87    87     seli          NaN                                                                   ADJECTIVE fire; cooking element, chemical reaction, heat source         1113\n",
      "88    88     selo          NaN                                                                   NOUN outer form, outer layer; bark, peel, shell, skin; boundary         1120\n",
      "89    89     seme          NaN                                                                                                             PARTICLE what? which?         1121\n",
      "90    90     sewi          NaN                           NOUN area above, highest part, something elevated ADJECTIVE awe-inspiring, divine, sacred, supernatural         1122\n",
      "91    91   sijelo          NaN                                                                            NOUN body (of person or animal), physical state, torso         1123\n",
      "92    92     sike          NaN                                            NOUN round or circular thing; ball, circle, cycle, sphere, wheel ADJECTIVE of one year         1130\n",
      "93    93      sin       namako                                                                                            new, fresh; additional, another, extra         1131\n",
      "94    94     sina          NaN                                                                                                                          NOUN you         1132\n",
      "95    95   sinpin          NaN                                                                                                  NOUN face, foremost, front, wall         1133\n",
      "96    96  sitelen          NaN                                                                        NOUN image, picture, representation, symbol, mark, writing         1200\n",
      "97    97     sona          NaN                                           VERB to know, be skilled in, be wise about, have information on PRE-VERB to know how to         1201\n",
      "98    98   soweli          NaN                                                                                                   NOUN animal, beast, land mammal         1202\n",
      "99    99     suli          NaN                                                                         ADJECTIVE big, heavy, large, long, tall; important; adult         1203\n",
      "100  100     suno          NaN                                                                  NOUN sun; light, brightness, glow, radiance, shine; light source         1210\n",
      "101  101     supa          NaN                                                                        NOUN horizontal surface, thing to put or rest something on         1211\n",
      "102  102     suwi          NaN                                                                               ADJECTIVE sweet, fragrant; cute, innocent, adorable         1212\n",
      "103  103      tan          NaN                                                                                                  PREPOSITION by, from, because of         1213\n",
      "104  104     taso          NaN                                                                                              PARTICLE but, however ADJECTIVE only         1220\n",
      "105  105     tawa          NaN                                                       PREPOSITION going to, toward; for; from the perspective of ADJECTIVE moving         1221\n",
      "106  106     telo          NaN                                                                                NOUN water, liquid, fluid, wet substance; beverage         1222\n",
      "107  107    tenpo          NaN                                                                          NOUN time, duration, moment, occation, period, situation         1223\n",
      "108  108     toki          NaN                                                                   VERB to communicate, say, speak, say, talk, use language, think         1230\n",
      "109  109     tomo          NaN                                                                                    NOUN indoor space; building, home, house, room         1231\n",
      "110  110       tu          NaN                                                                                                                        NUMBER two         1232\n",
      "111  111     unpa          NaN                                                                                     VERB to have sexual or marital relations with         1233\n",
      "112  112      uta          NaN                                                                                                NOUN mouth, lips, oral cavity, jaw         1300\n",
      "113  113    utala          NaN                                                                      VERB to battle, challenge, compete against, struggle against         1301\n",
      "114  114     walo          NaN                                                                                    ADJECTIVE white, whitish; light-coloured, pale         1302\n",
      "115  115      wan          NaN                                                                                               ADJECTIVE unique, united NUMBER one         1303\n",
      "116  116     waso          NaN                                                                                         NOUN bird, flying creature, winged animal         1310\n",
      "117  117     wawa          NaN                                                                   ADJECTIVE strong, powerful; confident, sure; energetic, intense         1311\n",
      "118  118     weka          NaN                                                                                                   ADJECTIVE absent, away, ignored         1312\n",
      "119  119     wile          NaN                                                                                  PRE-VERB must, need, require, should, want, wish         1313\n"
     ]
    }
   ],
   "source": [
    "print(df.to_string())"
   ]
  },
  {
   "cell_type": "code",
   "execution_count": 7,
   "metadata": {},
   "outputs": [],
   "source": [
    "import numpy as np\n",
    "from scipy.io.wavfile import write\n",
    "\n",
    "# Define a function to generate a sine wave for a given frequency and duration\n",
    "def generate_sine_wave(frequency, duration_ms, amplitude=1.0, sample_rate=44100):\n",
    "    t = np.linspace(0, duration_ms / 1000, int(sample_rate * (duration_ms / 1000)), endpoint=False)\n",
    "    wave = amplitude * np.sin(2 * np.pi * frequency * t)\n",
    "    return wave\n",
    "\n",
    "# Define the number of notes in an octave and their frequencies (adjust as needed)\n",
    "num_notes = len(syllables)\n",
    "base_frequency = 440.0  # A4, the 4th A on a piano\n",
    "octave = [base_frequency * 2**(i/12) for i in range(num_notes)]\n",
    "\n",
    "# Define the duration of each note in milliseconds (adjust as needed)\n",
    "note_duration_ms = 500\n",
    "\n",
    "# Generate and save audio files for each note\n",
    "for note_index, frequency in enumerate(octave):\n",
    "    note_wave = generate_sine_wave(frequency, note_duration_ms)\n",
    "    write(f'note_{note_index}.wav', 44100, note_wave.astype(np.float32))"
   ]
  },
  {
   "cell_type": "code",
   "execution_count": 8,
   "metadata": {},
   "outputs": [
    {
     "name": "stdout",
     "output_type": "stream",
     "text": [
      "Requirement already satisfied: pydub in /usr/local/python/3.10.8/lib/python3.10/site-packages (0.25.1)\n"
     ]
    }
   ],
   "source": [
    "!pip3 install pydub"
   ]
  },
  {
   "cell_type": "code",
   "execution_count": 9,
   "metadata": {},
   "outputs": [
    {
     "name": "stderr",
     "output_type": "stream",
     "text": [
      "/home/codespace/.python/current/lib/python3.10/site-packages/pydub/utils.py:170: RuntimeWarning: Couldn't find ffmpeg or avconv - defaulting to ffmpeg, but may not work\n",
      "  warn(\"Couldn't find ffmpeg or avconv - defaulting to ffmpeg, but may not work\", RuntimeWarning)\n"
     ]
    }
   ],
   "source": [
    "from pydub import AudioSegment\n",
    "import numpy as np\n",
    "\n",
    "def generate_silence(duration_ms, sample_width=2):\n",
    "    # Generate silence using numpy\n",
    "    sample_rate = 44100  # Adjust as needed\n",
    "    num_samples = int(sample_rate * duration_ms / 1000)\n",
    "    silence = np.zeros(num_samples, dtype=np.int16)\n",
    "    \n",
    "    # Convert the numpy array to an AudioSegment with the specified sample width\n",
    "    audio_segment = AudioSegment(\n",
    "        silence.tobytes(),\n",
    "        frame_rate=sample_rate,\n",
    "        sample_width=sample_width,\n",
    "        channels=1\n",
    "    )\n",
    "    \n",
    "    return audio_segment\n",
    "\n",
    "def generate_sine_wave(frequency, duration_ms, sample_width=2):\n",
    "    # Generate a sine wave using numpy\n",
    "    sample_rate = 44100  # Adjust as needed\n",
    "    t = np.linspace(0, duration_ms / 1000, int(sample_rate * duration_ms / 1000), endpoint=False)\n",
    "    sine_wave = 32767 * np.sin(2 * np.pi * frequency * t)\n",
    "    \n",
    "    # Convert the numpy array to an AudioSegment with the specified sample width\n",
    "    audio_segment = AudioSegment(\n",
    "        sine_wave.tobytes(),\n",
    "        frame_rate=sample_rate,\n",
    "        sample_width=sample_width,\n",
    "        channels=1\n",
    "    )\n",
    "    \n",
    "    return audio_segment\n",
    "\n",
    "def create_sound_from_base_n(base_n_string, n, output_file):\n",
    "    # Define the frequencies for each note in an octave\n",
    "    octave_frequencies = [440 * (2 ** (i / n)) for i in range(n)]\n",
    "    \n",
    "    # Create a mapping from digits to frequencies\n",
    "    digit_to_frequency = {str(i): octave_frequencies[i] for i in range(n)}\n",
    "    \n",
    "    # Define the sample width (2 bytes for 16-bit audio)\n",
    "    sample_width = 4\n",
    "    \n",
    "    # Create a list of audio segments for each digit in the base-n string\n",
    "    audio_segments = []\n",
    "    for digit in base_n_string:\n",
    "        if digit == ' ':\n",
    "            # Pause for the duration of a note\n",
    "            audio_segments.append(generate_silence(duration_ms=100, sample_width=sample_width))  # 500 milliseconds pause\n",
    "        else:\n",
    "            # Play the note corresponding to the digit\n",
    "            frequency = digit_to_frequency.get(digit, 0)  # Use 0 Hz for unsupported digits\n",
    "            audio_segment = generate_sine_wave(frequency, duration_ms=100, sample_width=sample_width)  # 500 milliseconds per note\n",
    "            audio_segments.append(audio_segment)\n",
    "    \n",
    "    # Concatenate the audio segments\n",
    "    final_audio = sum(audio_segments)\n",
    "    \n",
    "    # Export the audio as a sound file\n",
    "    final_audio.export(output_file, format=\"wav\")\n",
    "\n",
    "# Example usage\n",
    "base_n_string = \"10 20211\"\n",
    "n = 3\n",
    "output_file = \"output.wav\"\n",
    "create_sound_from_base_n(base_n_string, n, output_file)\n"
   ]
  },
  {
   "cell_type": "code",
   "execution_count": 10,
   "metadata": {},
   "outputs": [
    {
     "data": {
      "text/plain": [
       "'1110'"
      ]
     },
     "execution_count": 10,
     "metadata": {},
     "output_type": "execute_result"
    }
   ],
   "source": [
    "def word_to_index(word):\n",
    "    lines = !cat dictionary.csv | grep \\,{word}\\,\n",
    "    line = lines[0]\n",
    "    index = line.split(\",\")[0]\n",
    "    return index \n",
    "\n",
    "def word_to_base_n(word):\n",
    "    return df.iloc[int(word_to_index(word))][f\"Base-{len(syllables)} Index\"]\n",
    "\n",
    "word_to_base_n('pona')"
   ]
  },
  {
   "cell_type": "code",
   "execution_count": 11,
   "metadata": {},
   "outputs": [
    {
     "data": {
      "text/plain": [
       "'mama meli o awen  '"
      ]
     },
     "execution_count": 11,
     "metadata": {},
     "output_type": "execute_result"
    }
   ],
   "source": [
    "text = \"mama meli o awen.\"\n",
    "text = text.replace(\",\", \" \")\n",
    "text = text.replace(\":\", \" \")\n",
    "text = text.replace(\".\", \"  \")\n",
    "text"
   ]
  },
  {
   "cell_type": "code",
   "execution_count": 12,
   "metadata": {},
   "outputs": [
    {
     "data": {
      "text/plain": [
       "'301 303 1010 20  '"
      ]
     },
     "execution_count": 12,
     "metadata": {},
     "output_type": "execute_result"
    }
   ],
   "source": [
    "text_base_n = ' '.join([(word_to_base_n(word) if word else word) for word in text.split(\" \")])\n",
    "text_base_n"
   ]
  },
  {
   "cell_type": "code",
   "execution_count": 13,
   "metadata": {},
   "outputs": [],
   "source": [
    "n = 3\n",
    "output_file = \"output.wav\"\n",
    "create_sound_from_base_n(text_base_n, n, output_file)"
   ]
  },
  {
   "cell_type": "code",
   "execution_count": null,
   "metadata": {},
   "outputs": [],
   "source": []
  },
  {
   "cell_type": "code",
   "execution_count": null,
   "metadata": {},
   "outputs": [],
   "source": []
  }
 ],
 "metadata": {
  "kernelspec": {
   "display_name": "Python 3",
   "language": "python",
   "name": "python3"
  },
  "language_info": {
   "codemirror_mode": {
    "name": "ipython",
    "version": 3
   },
   "file_extension": ".py",
   "mimetype": "text/x-python",
   "name": "python",
   "nbconvert_exporter": "python",
   "pygments_lexer": "ipython3",
   "version": "3.10.8"
  },
  "orig_nbformat": 4
 },
 "nbformat": 4,
 "nbformat_minor": 2
}
